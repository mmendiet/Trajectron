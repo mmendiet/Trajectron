{
 "cells": [
  {
   "cell_type": "code",
   "execution_count": 66,
   "metadata": {},
   "outputs": [],
   "source": [
    "%matplotlib inline\n",
    "import matplotlib.pyplot as plt\n",
    "import glob\n",
    "import numpy as np\n",
    "import seaborn as sns\n",
    "import pandas as pd\n",
    "\n",
    "from collections import OrderedDict"
   ]
  },
  {
   "cell_type": "code",
   "execution_count": 67,
   "metadata": {},
   "outputs": [],
   "source": [
    "def pretty_dataset_name(dataset_name):\n",
    "    if dataset_name == 'eth':\n",
    "        return 'ETH - Univ'\n",
    "    elif dataset_name == 'hotel':\n",
    "        return 'ETH - Hotel'\n",
    "    elif dataset_name == 'univ':\n",
    "        return 'UCY - Univ'\n",
    "    elif dataset_name == 'zara1':\n",
    "        return 'UCY - Zara 1'\n",
    "    elif dataset_name == 'zara2':\n",
    "        return 'UCY - Zara 2'\n",
    "    else:\n",
    "        return dataset_name"
   ]
  },
  {
   "cell_type": "markdown",
   "metadata": {},
   "source": [
    "# Displacement Error Analyses"
   ]
  },
  {
   "cell_type": "code",
   "execution_count": 68,
   "metadata": {},
   "outputs": [],
   "source": [
    "errors_df = pd.concat([pd.read_csv(f) for f in glob.glob('plots/data/*_errors.csv')], ignore_index=True)"
   ]
  },
  {
   "cell_type": "code",
   "execution_count": 69,
   "metadata": {},
   "outputs": [
    {
     "output_type": "execute_result",
     "data": {
      "text/plain": "  data_precondition dataset           method  run          node  sample  \\\n0              prev   zara1  our_most_likely    0  Pedestrian/1       0   \n1              prev   zara1  our_most_likely    0  Pedestrian/1       0   \n2              prev   zara1  our_most_likely    0  Pedestrian/4       0   \n3              prev   zara1  our_most_likely    0  Pedestrian/4       0   \n4              prev   zara1  our_most_likely    0  Pedestrian/7       0   \n\n  error_type  error_value  \n0        mse     0.406025  \n1        fse     0.800336  \n2        mse     0.718970  \n3        fse     1.852830  \n4        mse     0.853513  ",
      "text/html": "<div>\n<style scoped>\n    .dataframe tbody tr th:only-of-type {\n        vertical-align: middle;\n    }\n\n    .dataframe tbody tr th {\n        vertical-align: top;\n    }\n\n    .dataframe thead th {\n        text-align: right;\n    }\n</style>\n<table border=\"1\" class=\"dataframe\">\n  <thead>\n    <tr style=\"text-align: right;\">\n      <th></th>\n      <th>data_precondition</th>\n      <th>dataset</th>\n      <th>method</th>\n      <th>run</th>\n      <th>node</th>\n      <th>sample</th>\n      <th>error_type</th>\n      <th>error_value</th>\n    </tr>\n  </thead>\n  <tbody>\n    <tr>\n      <th>0</th>\n      <td>prev</td>\n      <td>zara1</td>\n      <td>our_most_likely</td>\n      <td>0</td>\n      <td>Pedestrian/1</td>\n      <td>0</td>\n      <td>mse</td>\n      <td>0.406025</td>\n    </tr>\n    <tr>\n      <th>1</th>\n      <td>prev</td>\n      <td>zara1</td>\n      <td>our_most_likely</td>\n      <td>0</td>\n      <td>Pedestrian/1</td>\n      <td>0</td>\n      <td>fse</td>\n      <td>0.800336</td>\n    </tr>\n    <tr>\n      <th>2</th>\n      <td>prev</td>\n      <td>zara1</td>\n      <td>our_most_likely</td>\n      <td>0</td>\n      <td>Pedestrian/4</td>\n      <td>0</td>\n      <td>mse</td>\n      <td>0.718970</td>\n    </tr>\n    <tr>\n      <th>3</th>\n      <td>prev</td>\n      <td>zara1</td>\n      <td>our_most_likely</td>\n      <td>0</td>\n      <td>Pedestrian/4</td>\n      <td>0</td>\n      <td>fse</td>\n      <td>1.852830</td>\n    </tr>\n    <tr>\n      <th>4</th>\n      <td>prev</td>\n      <td>zara1</td>\n      <td>our_most_likely</td>\n      <td>0</td>\n      <td>Pedestrian/7</td>\n      <td>0</td>\n      <td>mse</td>\n      <td>0.853513</td>\n    </tr>\n  </tbody>\n</table>\n</div>"
     },
     "metadata": {},
     "execution_count": 69
    }
   ],
   "source": [
    "errors_df.head()"
   ]
  },
  {
   "cell_type": "code",
   "execution_count": 70,
   "metadata": {},
   "outputs": [],
   "source": [
    "dataset_names = ['eth', 'hotel', 'univ', 'zara1', 'zara2']"
   ]
  },
  {
   "cell_type": "code",
   "execution_count": 71,
   "metadata": {},
   "outputs": [],
   "source": [
    "sgan_err_df = errors_df[(errors_df['data_precondition'] == 'all') & (errors_df['method'] == 'sgan')]\n",
    "our_ml_err_df = errors_df[(errors_df['data_precondition'] == 'all') & (errors_df['method'] == 'our_most_likely')]\n",
    "our_full_err_df = errors_df[(errors_df['data_precondition'] == 'all') & (errors_df['method'] == 'our_full')]"
   ]
  },
  {
   "cell_type": "code",
   "execution_count": 72,
   "metadata": {},
   "outputs": [
    {
     "output_type": "execute_result",
     "data": {
      "text/plain": "      data_precondition dataset method  run          node  sample error_type  \\\n10902              curr   zara2   sgan    0  Pedestrian/2       0        mse   \n10903              curr   zara2   sgan    0  Pedestrian/2       0        fse   \n10904              curr   zara2   sgan    0  Pedestrian/4       0        mse   \n10905              curr   zara2   sgan    0  Pedestrian/4       0        fse   \n10906              curr   zara2   sgan    0  Pedestrian/5       0        mse   \n\n       error_value  \n10902     0.294134  \n10903     0.598337  \n10904     0.300409  \n10905     0.611891  \n10906     0.491559  ",
      "text/html": "<div>\n<style scoped>\n    .dataframe tbody tr th:only-of-type {\n        vertical-align: middle;\n    }\n\n    .dataframe tbody tr th {\n        vertical-align: top;\n    }\n\n    .dataframe thead th {\n        text-align: right;\n    }\n</style>\n<table border=\"1\" class=\"dataframe\">\n  <thead>\n    <tr style=\"text-align: right;\">\n      <th></th>\n      <th>data_precondition</th>\n      <th>dataset</th>\n      <th>method</th>\n      <th>run</th>\n      <th>node</th>\n      <th>sample</th>\n      <th>error_type</th>\n      <th>error_value</th>\n    </tr>\n  </thead>\n  <tbody>\n    <tr>\n      <th>10902</th>\n      <td>curr</td>\n      <td>zara2</td>\n      <td>sgan</td>\n      <td>0</td>\n      <td>Pedestrian/2</td>\n      <td>0</td>\n      <td>mse</td>\n      <td>0.294134</td>\n    </tr>\n    <tr>\n      <th>10903</th>\n      <td>curr</td>\n      <td>zara2</td>\n      <td>sgan</td>\n      <td>0</td>\n      <td>Pedestrian/2</td>\n      <td>0</td>\n      <td>fse</td>\n      <td>0.598337</td>\n    </tr>\n    <tr>\n      <th>10904</th>\n      <td>curr</td>\n      <td>zara2</td>\n      <td>sgan</td>\n      <td>0</td>\n      <td>Pedestrian/4</td>\n      <td>0</td>\n      <td>mse</td>\n      <td>0.300409</td>\n    </tr>\n    <tr>\n      <th>10905</th>\n      <td>curr</td>\n      <td>zara2</td>\n      <td>sgan</td>\n      <td>0</td>\n      <td>Pedestrian/4</td>\n      <td>0</td>\n      <td>fse</td>\n      <td>0.611891</td>\n    </tr>\n    <tr>\n      <th>10906</th>\n      <td>curr</td>\n      <td>zara2</td>\n      <td>sgan</td>\n      <td>0</td>\n      <td>Pedestrian/5</td>\n      <td>0</td>\n      <td>mse</td>\n      <td>0.491559</td>\n    </tr>\n  </tbody>\n</table>\n</div>"
     },
     "metadata": {},
     "execution_count": 72
    }
   ],
   "source": [
    "sgan_err_df.head()"
   ]
  },
  {
   "cell_type": "code",
   "execution_count": 73,
   "metadata": {},
   "outputs": [
    {
     "output_type": "execute_result",
     "data": {
      "text/plain": "data_precondition     object\ndataset               object\nmethod                object\nrun                    int64\nnode                  object\nsample                 int64\nerror_type            object\nerror_value          float64\ndtype: object"
     },
     "metadata": {},
     "execution_count": 73
    }
   ],
   "source": [
    "sgan_err_df.dtypes"
   ]
  },
  {
   "cell_type": "code",
   "execution_count": 74,
   "metadata": {
    "tags": []
   },
   "outputs": [
    {
     "output_type": "stream",
     "name": "stdout",
     "text": "eth\n-- SGAN --\n  error_type   run  sample          sum  count  best_of_100_mean_error\n0        fse  3486       0  1795.980696    546                3.289342\n1        mse  3486       0   986.883064    546                1.807478\n-- OUR ML --\n  error_type   run  sample         sum  count  best_of_100_mean_error\n0        fse  3486       0  895.717482    546                1.640508\n1        mse  3486       0  455.663316    546                0.834548\n-- OUR FULL --\n  error_type   run  sample         sum  count  best_of_100_mean_error\n0        fse  3486       0  877.443685    546                1.607040\n1        mse  3486       0  439.357486    546                0.804684\n\nhotel\n-- SGAN --\n  error_type   run  sample          sum  count  best_of_100_mean_error\n0        fse  5050       0  1258.237438    568                2.215207\n1        mse  5050       0   627.116946    568                1.104079\n-- OUR ML --\n  error_type   run  sample         sum  count  best_of_100_mean_error\n0        fse  5050       0  562.845918    568                0.990926\n1        mse  5050       0  290.140727    568                0.510811\n-- OUR FULL --\n  error_type   run  sample         sum  count  best_of_100_mean_error\n0        fse  5050       0  617.150968    568                1.086533\n1        mse  5050       0  306.880796    568                0.540283\n\nuniv\n-- SGAN --\n  error_type   run  sample          sum  count  best_of_100_mean_error\n0        fse  4560       0  6373.381767   3855                1.653277\n1        mse  4560       0  3060.468560   3855                0.793896\n-- OUR ML --\n  error_type   run  sample          sum  count  best_of_100_mean_error\n0        fse  4560       0  4831.643527   3855                1.253345\n1        mse  4560       0  2328.529129   3855                0.604028\n-- OUR FULL --\n  error_type   run  sample          sum  count  best_of_100_mean_error\n0        fse  4560       0  4983.727590   3855                1.292796\n1        mse  4560       0  2401.747789   3855                0.623021\n\nzara1\n-- SGAN --\n  error_type   run  sample         sum  count  best_of_100_mean_error\n0        fse  3741       0  746.732917    518                1.441569\n1        mse  3741       0  361.645593    518                0.698158\n-- OUR ML --\n  error_type   run  sample         sum  count  best_of_100_mean_error\n0        fse  3741       0  557.384488    518                1.076032\n1        mse  3741       0  280.297247    518                0.541114\n-- OUR FULL --\n  error_type   run  sample         sum  count  best_of_100_mean_error\n0        fse  3741       0  627.399139    518                1.211195\n1        mse  3741       0  318.734482    518                0.615318\n\nzara2\n-- SGAN --\n  error_type   run  sample          sum  count  best_of_100_mean_error\n0        fse  5356       0  1577.989954    980                1.610194\n1        mse  5356       0   782.063541    980                0.798024\n-- OUR ML --\n  error_type   run  sample          sum  count  best_of_100_mean_error\n0        fse  5356       0  1116.705091    980                1.139495\n1        mse  5356       0   559.494851    980                0.570913\n-- OUR FULL --\n  error_type   run  sample          sum  count  best_of_100_mean_error\n0        fse  5356       0  1125.204986    980                1.148168\n1        mse  5356       0   566.036867    980                0.577589\n\n"
    }
   ],
   "source": [
    "random_subsamples = np.random.choice(2000, size=100, replace=False).astype(int).tolist()\n",
    "random_subsamples = [0]\n",
    "\n",
    "for dataset_name in dataset_names:\n",
    "    print(dataset_name)\n",
    "    curr_sgan_df = sgan_err_df[sgan_err_df['dataset'] == dataset_name]\n",
    "    curr_our_ml_df = our_ml_err_df[our_ml_err_df['dataset'] == dataset_name]\n",
    "    curr_our_full_df = our_full_err_df[our_full_err_df['dataset'] == dataset_name]\n",
    "\n",
    "    subsamp_sgan_df = curr_sgan_df[curr_sgan_df['sample'].isin(random_subsamples)]\n",
    "    subsamp_our_ml_df = curr_our_ml_df[curr_our_ml_df['sample'].isin(random_subsamples)]\n",
    "    subsamp_our_full_df = curr_our_full_df[curr_our_full_df['sample'].isin(random_subsamples)]        \n",
    "    \n",
    "    sgan_sample_errs_df = subsamp_sgan_df.groupby(['run', 'sample', 'error_type'])['error_value'].agg(['sum', 'count']).reset_index()\n",
    "    sgan_best_sample_errs_df = sgan_sample_errs_df.iloc[sgan_sample_errs_df.groupby([\"run\", \"error_type\"])['sum'].idxmin()]\n",
    "    described_sgan_errs = sgan_best_sample_errs_df.groupby(['error_type']).sum().reset_index()\n",
    "    described_sgan_errs['best_of_100_mean_error'] = described_sgan_errs['sum'] / described_sgan_errs['count']\n",
    "    \n",
    "    our_ml_sample_errs_df = subsamp_our_ml_df.groupby(['run', 'sample', 'error_type'])['error_value'].agg(['sum', 'count']).reset_index()\n",
    "    our_ml_best_sample_errs_df = our_ml_sample_errs_df.iloc[our_ml_sample_errs_df.groupby([\"run\", \"error_type\"])['sum'].idxmin()]\n",
    "    described_our_ml_errs = our_ml_best_sample_errs_df.groupby(['error_type']).sum().reset_index()\n",
    "    described_our_ml_errs['best_of_100_mean_error'] = described_our_ml_errs['sum'] / described_our_ml_errs['count']\n",
    "\n",
    "    our_full_sample_errs_df = subsamp_our_full_df.groupby(['run', 'sample', 'error_type'])['error_value'].agg(['sum', 'count']).reset_index()\n",
    "    our_full_best_sample_errs_df = our_full_sample_errs_df.iloc[our_full_sample_errs_df.groupby([\"run\", \"error_type\"])['sum'].idxmin()]\n",
    "    described_our_full_errs = our_full_best_sample_errs_df.groupby(['error_type']).sum().reset_index()\n",
    "    described_our_full_errs['best_of_100_mean_error'] = described_our_full_errs['sum'] / described_our_full_errs['count']\n",
    "    \n",
    "    print('-- SGAN --')\n",
    "    print(described_sgan_errs)\n",
    "    \n",
    "    print('-- OUR ML --')\n",
    "    print(described_our_ml_errs)\n",
    "    \n",
    "    print('-- OUR FULL --')\n",
    "    print(described_our_full_errs)\n",
    "    \n",
    "    print()"
   ]
  },
  {
   "cell_type": "code",
   "execution_count": null,
   "metadata": {},
   "outputs": [],
   "source": []
  }
 ],
 "metadata": {
  "kernelspec": {
   "display_name": "Python 3.6.9 64-bit ('traj': venv)",
   "language": "python",
   "name": "python36964bittrajvenv0486be9b939e49188d2a5b3efbf0a72c"
  },
  "language_info": {
   "codemirror_mode": {
    "name": "ipython",
    "version": 3
   },
   "file_extension": ".py",
   "mimetype": "text/x-python",
   "name": "python",
   "nbconvert_exporter": "python",
   "pygments_lexer": "ipython3",
   "version": "3.6.9-final"
  }
 },
 "nbformat": 4,
 "nbformat_minor": 2
}